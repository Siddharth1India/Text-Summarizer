{
  "nbformat": 4,
  "nbformat_minor": 0,
  "metadata": {
    "colab": {
      "name": "text-summarizer.ipynb",
      "provenance": [],
      "collapsed_sections": []
    },
    "kernelspec": {
      "name": "python3",
      "display_name": "Python 3"
    },
    "language_info": {
      "name": "python"
    },
    "accelerator": "GPU"
  },
  "cells": [
    {
      "cell_type": "code",
      "source": [
        "!pip install youtube-transcript-api"
      ],
      "metadata": {
        "colab": {
          "base_uri": "https://localhost:8080/"
        },
        "id": "RH6JqlXDxUrF",
        "outputId": "48f4ec8c-0014-41b4-f7fe-298a0d7c8463"
      },
      "execution_count": null,
      "outputs": [
        {
          "output_type": "stream",
          "name": "stdout",
          "text": [
            "Collecting youtube-transcript-api\n",
            "  Downloading youtube_transcript_api-0.4.3-py3-none-any.whl (23 kB)\n",
            "Requirement already satisfied: requests in /usr/local/lib/python3.7/dist-packages (from youtube-transcript-api) (2.23.0)\n",
            "Requirement already satisfied: urllib3!=1.25.0,!=1.25.1,<1.26,>=1.21.1 in /usr/local/lib/python3.7/dist-packages (from requests->youtube-transcript-api) (1.24.3)\n",
            "Requirement already satisfied: certifi>=2017.4.17 in /usr/local/lib/python3.7/dist-packages (from requests->youtube-transcript-api) (2021.10.8)\n",
            "Requirement already satisfied: idna<3,>=2.5 in /usr/local/lib/python3.7/dist-packages (from requests->youtube-transcript-api) (2.10)\n",
            "Requirement already satisfied: chardet<4,>=3.0.2 in /usr/local/lib/python3.7/dist-packages (from requests->youtube-transcript-api) (3.0.4)\n",
            "Installing collected packages: youtube-transcript-api\n",
            "Successfully installed youtube-transcript-api-0.4.3\n"
          ]
        }
      ]
    },
    {
      "cell_type": "code",
      "source": [
        "import bs4 as bs\n",
        "import nltk\n",
        "nltk.download('stopwords')\n",
        "nltk.download('punkt')\n",
        "import re\n",
        "\n",
        "\n",
        "from youtube_transcript_api import YouTubeTranscriptApi as YTA"
      ],
      "metadata": {
        "colab": {
          "base_uri": "https://localhost:8080/"
        },
        "id": "aEJau9iIw51g",
        "outputId": "0b6c158e-0b6e-4bc6-c6d2-5641c29e760f"
      },
      "execution_count": null,
      "outputs": [
        {
          "output_type": "stream",
          "name": "stdout",
          "text": [
            "[nltk_data] Downloading package stopwords to /root/nltk_data...\n",
            "[nltk_data]   Unzipping corpora/stopwords.zip.\n",
            "[nltk_data] Downloading package punkt to /root/nltk_data...\n",
            "[nltk_data]   Unzipping tokenizers/punkt.zip.\n"
          ]
        }
      ]
    },
    {
      "cell_type": "code",
      "source": [
        "def workingCode(text):\n",
        "    arr = text.split('=')  \n",
        "    a=YTA.get_transcript(arr[1][0:12]) \n",
        "    print(len(a))\n",
        "    x = []\n",
        "    for y in a:\n",
        "        x.append(re.sub('\\n', ' ', y['text']))\n",
        "    \n",
        "    return x, arr[1], a"
      ],
      "metadata": {
        "id": "b6DUIu5fxMo1"
      },
      "execution_count": null,
      "outputs": []
    },
    {
      "cell_type": "code",
      "source": [
        "def transcript(link):\n",
        "  x, y, z = workingCode(link)\n",
        "  for i in x:\n",
        "    print(i)"
      ],
      "metadata": {
        "id": "iUuEXuEfyid8"
      },
      "execution_count": null,
      "outputs": []
    },
    {
      "cell_type": "code",
      "source": [
        "def summary(link):\n",
        "  x, y, z = workingCode(link)\n",
        "  with open('readme.txt', 'w') as f:\n",
        "      for element in x:\n",
        "        f.write('%s\\n' % element)\n",
        "\n",
        "  scraped_data = open(\"/content/readme.txt\",'r')\n",
        "  article = scraped_data.read()\n",
        "  parsed_article = bs.BeautifulSoup(article,'lxml')\n",
        "  paragraphs = parsed_article.find_all('p')\n",
        "  article_text = \"\"\n",
        "  for p in paragraphs:\n",
        "      article_text += p.text\n",
        "\n",
        "  article_text = re.sub(r'\\[[0-9]*\\]', ' ', article_text)\n",
        "  article_text = re.sub(r'\\s+', ' ', article_text)\n",
        "\n",
        "  # sentence_list = nltk.sent_tokenize(article_text)\n",
        "  # print(sentence_list)\n",
        "\n",
        "  formatted_article_text = re.sub('[^a-zA-Z]', ' ', article_text )\n",
        "  formatted_article_text = re.sub(r'\\s+', ' ', formatted_article_text)\n",
        "\n",
        "  stopwords = nltk.corpus.stopwords.words('english')\n",
        "  word_frequencies = {}\n",
        "  for word in nltk.word_tokenize(formatted_article_text):\n",
        "      if word not in stopwords:\n",
        "          if word not in word_frequencies.keys():\n",
        "              word_frequencies[word] = 1\n",
        "          else:\n",
        "              word_frequencies[word] += 1\n",
        "  # print(word_frequencies)\n",
        "\n",
        "  maximum_frequncy = max(word_frequencies.values())\n",
        "  for word in word_frequencies.keys():\n",
        "      word_frequencies[word] = (word_frequencies[word]/maximum_frequncy)\n",
        "  # print(word_frequencies)\n",
        "\n",
        "  sentence_scores = {}\n",
        "  # print(sentence_list)\n",
        "\n",
        "  for sent in x:\n",
        "      for word in nltk.word_tokenize(sent.lower()):\n",
        "          if word in word_frequencies.keys():\n",
        "              # print(len(sent.split(' ')))\n",
        "              if len(sent.split(' ')) < 30:\n",
        "                  if sent not in sentence_scores.keys():\n",
        "                      sentence_scores[sent] = word_frequencies[word]\n",
        "                      # print(sentence_scores)\n",
        "                  else:\n",
        "                      sentence_scores[sent] += word_frequencies[word]\n",
        "  # print(len(sentence_scores))\n",
        "\n",
        "  import heapq\n",
        "  summary_sentences = heapq.nlargest(int(0.15*len(x)), sentence_scores, key=sentence_scores.get)\n",
        "  summary = ' '.join(summary_sentences)\n",
        "  print(summary)"
      ],
      "metadata": {
        "id": "Ym5OlX7x8bxK"
      },
      "execution_count": null,
      "outputs": []
    },
    {
      "cell_type": "code",
      "source": [
        "link = input(\"Enter the video link : \")\n",
        "print(\"1 -> Video Transcript \\n2 -> Video Summary\")\n",
        "ch = int(input(\"Enter your choice number : \"))\n",
        "if ch == 1:\n",
        "  transcript(link)\n",
        "elif ch == 2:\n",
        "  summary(link)\n",
        "else:\n",
        "  print(\"Invalid Choice !!!\")"
      ],
      "metadata": {
        "colab": {
          "base_uri": "https://localhost:8080/"
        },
        "id": "7lYRLYvf-Nws",
        "outputId": "d52c046f-4b5f-4adc-c6c7-c6ef0f5e65dc"
      },
      "execution_count": null,
      "outputs": [
        {
          "output_type": "stream",
          "name": "stdout",
          "text": [
            "Enter the video link : https://www.youtube.com/watch?v=zFZrkCIc2Oc&t=2982s\n",
            "1 -> Video Transcript \n",
            "2 -> Video Summary\n",
            "Enter your choice number : 2\n",
            "2350\n",
            "that my web page happens to find inside the body of my web page. we would like this page to look to make sure that the page looks not in the main body of the web page, the part of the web page Our very first HTML page is going to look a little something like this. So what is this web page actually going to look like? how our page is going to look depending on how we render that particular page, well, then now, when I refresh this page, I see that Welcome to my web page going to look like. and other elements to our page just to make it easy to make our page look good I'm just going to add a style section to the top of my web page But inside the body of this page now, I want something a little bit different. I'm going to, inside the body the page, use an h1 element to control what a page actually looks like depending on what type of page then I might want to style the page in a different way. that we're able to layout our page the way we want to lay out the page, But now, inside of the style tag here, up in the head section of my web page, Our structure of the web page inside the body is separate from the style. And now, inside of my style code, I would like to say just the style is going to specify what page I would like to link to. that our web pages look good, no matter how you're looking at the web page. and then in my style code, just style that particular part of my HTML page. of the page, some section of the page that's going for example, inside of a web browser, what I'll see is something like this. want to style our web page in some way. a lang equals en to the top of my page to indicate that this web page is such that now when I go back to the page and refresh the page, my first two at the top that says like, Welcome to my web page, for example. on a single page, it's also common for a page to link to other pages. So one question you might ask is, what's going to happen when you take this page and how CSS can then be used to style our web page in various different ways, It's going to describe how I want for the elements on this page to be styled. And I can just inside the body of my page go ahead and add an alert, Like if you've ever used a to do list program on a web page, And now when I refresh the page, now I see that the width of this page, And inside the body of this page, I want an ordered list And so many phones will take a web page like this section of our head of the web page or inside of a separate dot CSS file, is I could say something like, let me add a style tag here, is going to be equal to what image do I actually want to display on this page. then I want to style the page in one way. And now, I'm going to add some style to this page how our page is going to look on various different types of devices. Inside the body of the page, I have a div, inside of which I see a red web page, because my screen is longer than 600 pixels wide. And maybe I want in this web page to display information If I go back to my web browser now, refresh the page, now, all of the text So inside of my table row, I'm going to have one table data point, or td, And in particular now, in the style section of my web page, look like to add flexbox to our page. elements that we might be interacting with in our web page. I'll go ahead and add one more row just so we can see what this looks like. page that's going to be helpful or useful for web browsers to know about. I see a big heading at the top that says welcome to my web page, this entire div, inside of my web page. because we're going to try and build a responsive web page now. that I would like to use in order to reference that particular HTML element. meaning what I'm about to link is going to be a style sheet for this page. We've seen how we can move CSS into the style section of our web page. like for this web page to be styled. on your page, as your web pages start to get a little bit more complex, And the body of the page, again, is just the visible part of the page they want for any particular web page. might we add to our web page? going to use an input tag, who's type in this case is going to be text. And inside the body, we're saying the page should say the words hello world. And inside of the body of this page now, let's say So let's take a look at this page one line at a time and then a body of the page where we said something like hello world, So instead of putting this style code inside of a style element We've seen how we can use HTML to describe the structure of our web page, Next, what I might like to do, though, is like add some space around here. For example, you might imagine that on Google's home page, for example, I can say something like, if the minimum width of the page HTML is a language we'll use to describe the structure of a web page. What we're going to see is we're going to see the word Hello. inside of this HTML page, I'll just create a new file So let me first show what an ordered list might look like, just include a big heading that says Welcome to My Web Page, for example. or you might imagine in a more complex page, like tens or dozens of places, a single div that is going to say something like hello world. to take a look at how we can add some CSS code to our page. I can inside of the head section of my web page oftentimes a page is going to look a whole lot better on a mobile device. It's going to be text-based code that we write that a web browser, like Safari And now, I'll go ahead and inside the body of my page So here's grid.html, where I'll go ahead and inside the body of this page, Maybe inside the style section of my page have a vertical section of my page, just some section of my page that I would like to style all table data cells and table And now, inside of the body, I'm going to add a new tag called image. And what do we want inside the body of the page? So let's go ahead and create a table and look at what HTML elements Now, the style information is inside the header of my page, So now let's take a look at what happens when I take this page And then down further below, we see that we have the body of the web page And then, we'll take a look at the page and then go back to this code. and the layouts and the spacing that make the web page look I might like to add a little bit more to this button and say, you know what, are going to describe what we want on this page, And if I go ahead and open that HTML page as my opening hello.html HTML, And then all of the style code is going to go inside If in the style section of my web page, I to our page to make it look a little better on different screens. of divs, for example, I could say like, div arrow unordered list, we might see something that looks a little something like this. that we can add in order to make our web pages look the way we wanted to. that we have to really control how a page is going to look. But recall that we had a title of the page that said something like hello to make the page look a little bit nicer to the user. the style of a web page, the colors and the fonts reflects the title of the web page, for example, which in this case like for the title of the page, for example. I'll go ahead and go into hello.html and copy this text into the page, then maybe I'd like to take the body and give it a background color of blue, Like it seems like this text is very tight against the border of this table. we're using in this particular web page, because depending of the HTML element and the body is inside of the HTML element too. I've taken the CSS code that used to be down here inside the body of the page style tag, I can add any of the style information that I want. inside of which will be an HTML page called font. If I have a big banner at the top of one web page, something like the color of the element or the alignment of the element. Say maybe I want 20 pixels worth of padding on the inside of the element, Like maybe I want to style both Heading 1 and Heading 2. say that I would like for all list items to be styled blue, well then-- We want to add some sort of other layout to our page as well. but isn't actually part of the body of the web page, the content going to take precedence over any styling that's inside the style the styling to only particular parts of the web page. well, then next, what we're going to say is that this Hello is going to show up And now, inside of my HTML page, I no longer need to include any CSS at all. And right now, our CSS code is specific to one particular page. and inside the body of the page just give myself a button. like black, to another color, like blue. going to practice with building some links into our HTML page. which is a language that we can use to describe the structure of the web page, Instead of putting the style code here, I'll go ahead and link a style sheet We can specify that we're going to give this h1 element a style attribute. And I don't want to make the entire page blue and centered. to an entirely different part of the web page. This just tells the web browser or anyone looking at the HTML of this page Now, inside of the HTML body of the page, can CSS in a number of different ways to add some basic styles to our page. And now, inside the body of my page, let me just selectors, these ways of me saying, style table data, style table headers. I want to take every h1, I want to change its color to blue. I can change alert primary here inside my HTML to something like alert danger the page is that all of the items are going to be blue I first need to specify, what types of elements am I going to style? Using the same starting HTML, we'll call this page Table. to rearrange them to make the page just look a little bit nicer to our HTML inside the head section of our page that controls the viewport. So maybe I want a line to be able to separate this entire part of the page After that our HTML page is structured as a series of nested HTML elements, all of the buttons and the text and the forms and other parts of the web page But we can also use CSS to be able to change something like the font And so, here, for example, is what the DOM for this web page I could say for this h1, I would like to give it a color property. on the web page, for example-- And the structure of this page is going to be pretty similar to the pages In this case, I'm just going to say something like, Click here, the user is using in order to look at our page. And inside of this table row, we'll go ahead and add some individual data where an HTML element describes something on the page. It might apply it to zero or one or two or more different HTML elements. language that we're going to use to make it easy to design and develop our web inside of the style element, where I've said for every h1 element, I might say that for this table I would like specifying what font would I like to use in order to display this text. So now, let's take a look at some other features that CSS is going to give us. So, for example, one thing I can do is inside this div add some padding. I can say, let's give these a background color of like a shade of green. Well, one thing we might want to add are things like this inside of our web pages. Well, I can do so again in the head section of my web page add a style element, where in between the opening style tag and the closing something like orange, such that now if I open up size, it looks like this. So now if I take this exact same page and go ahead and refresh style.html, what I'm going to see is something like this-- easier to visually understand, and just to clean up the body of the web page that we would like to add to this particular element. I'm going to say Sass variables.scss, the file I'd like to compile, And I'm going to open up a new file that I'm just going to call hello.html. just so you can more clearly see how the style of this page So h1 is a tag that I can use to create a large heading at the top of my page, And then we're going to replace the body of this page to control the size of this section of my web page. specify a font size, how big I want the font to be inside of this div. So, for example, I could also say h2 inside of which I say, So if I load this page, for example, I now see the h1 at the very top. Then inside of the a tag, I would specify what text I want to display. Ideally, we want our page to adapt to different sized screens. and inside of the body element is this h1 element and this text, We'll start with the same HTML code and call the page Size. a color of blue, then when I open this page where I have three h1 tags, if I'm building a web page, building using Sass, And now, inside of the body, I'm going to create first a div that So I'll go ahead and create a new page called form.html, I can say $color to mean go ahead and use the value of the variable color deciding what's going to show up where on the page, and then we looked at CSS just for visually organizing text inside of a page. we have an HTML element inside of which is this body element is the language that we are going to use in order to build our web applications. If it's on a big screen, maybe you want the elements to look a certain way. Table data cells in the body of my page, I really You might imagine there are some other changes that I might like to make. Maybe instead of just being black text, I'd like to change the color. In the body of the page, I see the words hello world. So I could, up above, add some more content to this HTML page. So I'll go ahead and add a tr, short for table row and inside of that tr I want to style the unordered list to have a font size of 14 pixels I probably, when I my user visits this web page, information that's useful to know about the web page, to provide information to the web page. So this is what that page ultimately looks like. If I want the title of the page, but also I want to apply a style to or to apply styling to the entire class of elements So now, if I refresh the page, because my web browser supports Arial, of CSS, CSS3, which gives us the ability to take an HTML page I say color colon and then the value that I would like to give to it. Notice that inside of the body of my page now, So we might say something like input type equals Now, this applied to the table data cells in the body of my page, like td comma th for selecting table data but also table headers. And now inside of my ol element, my ordered list element, And anytime users can provide input to a web page, to take a look at this SCSS page and really understand There can only be one element in this page that has an ID of Foo, If you and your web page specify, though, of a pair of curly braces, where I can say I would like the color to be blue starting with the head section of the web page, which describes stuff such that now if I style and say, I would like all h1s to show up with like modifying only on a specific attribute of a particular HTML element. CSS code to make our text look good, to make our buttons look good, And inside the body of this page now, there The paragraph inside the div and the list inside of the div, those border I want around the edge of the page, I might see something that looks like this, And then inside of that element, you might nest other elements. all the web page needs to know is that it has a title I would like to add some font information to this div. But notice what happens as a shrink this web page. right, I would like to take this HTML file And my ordered list, I would like that to have a font size of maybe larger, 18 If I ever want to change the color from red to blue, for example, at the top that says, Welcome to my web page, And if I want to add multiple CSS properties to the same HTML element, I might like to add some styling in order I can refresh this page and see that right now that is not the case. of the internet is the ability to go from one page for example, you might see a list of things that you need to do then go ahead and take the body and give it a background color of red. I'd like to say that the text align property should be center, for example. I can add an unordered list and create a sublist, like sublist item 1 this is what this is ultimately going to look like. section of my page, I see the words Hello World. And I can specify what color I would like that border to be as well. So if I take the CSS link and then go back to something like hello.html, want to style the paragraph if it is inside of a div. So I can say let's give it 20 pixels of margin inside of this div. so that the color instead of being black is going to show up as blue instead. put it inside of another page. So the viewport is this entire area of the web page is, what is the title of the web page? Well, let's go ahead and add some table headings, And I would like to style this div in a couple of ways. Let's imagine, for example, that I want to style And we might have elements that are inside of other elements. And I've moved the style-related code to a different part of my page altogether. to style a particular element always, but to style is a paragraph inside the div and also a list, an unordered list, I see the title bar, where I have the title for this page, which in this case Next up comes the body of the page, again, indicated by a body tag And then I could link the CSS to this particular page. to figure out what language each web page is in we is that if I have a web application or a website that has multiple different web we did a moment ago, where inside of h1, I said style color is blue. So here again was the web page that we were just looking at. that might be contained within that page as well. If I go ahead and refresh the page now, I'm still on list.html, So, for example, if I wanted to link to that cat page using a link tag, where I can say I'd like this link want to display different information or it might need to parse But inside of the table, we might have different parts. I would like to give those a color of blue. pages, it's probably going to be likely that each of those web pages where we might want to apply styling to multiple elements at the same time. This line of code here is providing some metadata to our HTML page and saying, to explore these various different HTML tags and nesting HTML tags inside Let me go ahead and look at inheritance.scss to look at the code is add some links to our page, where if you click on something, we might call some padding to this particular HTML element, some space, we can also use CSS to change how elements actually look. I might specify that I would like those to also but also because it makes the page a little bit more And maybe I want the border to be like a 3 pixel solid black border, We can check to see whether the user is viewing the page on their computer such that if I load this page now, I have a big heading, a smaller one, and tell the web browser how we would like it to be styled. instead of styling all h1 elements, I only want to style So let's now take a look at an example of that to see how that works. of saying that this HTML page is written using to saying that the color is blue, I'd like to give a second CSS when someone visits this web page. they're taken to the web page? So dot Baz, in this case, is going to style only the elements that Now, of course, that's probably not really what we want it to look like. trying to design a mobile responsive page, for example. this particular part of the HTML page. Well, we need some way to uniquely reference this particular HTML element. or I only want the style lists that are inside of certain classes, And I can say the variable called color is going to be equal to red. And then finally, we're going to go ahead and give a name to this input But I could also say, I would like links that In particular, we're going to add a color. In order to create a link, I'm going to use a tag And now when I refresh this page, I now see the alert to your web page. And if the size of the page is a different width, just to demonstrate some basic ideas of adding some style to our page. want to apply the style to that one individual heading. By default, HTML just used a default size for everything on the page. multiple different elements in different ways, but using some common properties. We've seen it to change the color of text, changing it from one color, and how web browsers are able to display those web pages. And let me now add some style information to this table. And then I can say, all right, I'd like to give this div a width let's add some style to the button, and give it a width of 200 pixels, And it's important as we begin to design web pages that we design our web Now, if I refresh the page, I see again nothing has changed. going to specifically say that everything inside the container, or the only element with an ID of Foo, I would like that to be colored blue? and say, links should be color blue like, I'm going to have to change my code in two different places. And I'm going to put this inside of a div tag. a big heading at the top of my page that says, this is a heading. to this particular HTML page. So I could add a border by going to this div and saying, because I would like for this image to be 300 pixels wide, for example. is going to map on to the way that we're modifying these HTML elements. lets us write a Sass file that looks a little something like this. For example, one important thing that a web browser needs to know But ultimately, our web pages should be web pages that don't just sometimes I want to give a name to an HTML element that is not unique, might actually look like. So now, if I refresh this page, I now see as an attribute of an HTML element, we can move our style code say #Foo to say only style the element that has an ID of Foo Now, if I refresh this page, here's what I see. In particular, when I display an image on the page, now let's open up nesting.css and see what it looks like. Well, to style things normally, I would say something\n"
          ]
        }
      ]
    }
  ]
}